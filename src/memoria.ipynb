{
 "cells": [
  {
   "cell_type": "markdown",
   "metadata": {},
   "source": [
    "I. Introducción"
   ]
  },
  {
   "cell_type": "markdown",
   "metadata": {},
   "source": [
    "Contexto del Problema y Justificación\n",
    "\n",
    "En el contexto del running y el rendimiento en maratones, la predicción del tiempo que un corredor tardará en completar una maratón es de gran relevancia. Esta información puede ser útil para los corredores en su planificación y entrenamiento. En este proyecto, se aborda la predicción del tiempo de maratón a partir de datos relacionados con el entrenamiento previo al evento.\n",
    "Objetivos y Alcance del Proyecto\n",
    "\n",
    "El objetivo principal es desarrollar un modelo de machine learning que sea capaz de predecir con precisión el tiempo de maratón de un corredor. Se busca entender la relación entre variables como la distancia entrenada semanalmente, la velocidad promedio y otros factores, y su impacto en el rendimiento final. El alcance del proyecto se centra en el análisis de datos, preprocesamiento, modelado y evaluación."
   ]
  },
  {
   "cell_type": "markdown",
   "metadata": {},
   "source": [
    "II. Dataset"
   ]
  },
  {
   "cell_type": "markdown",
   "metadata": {},
   "source": [
    "Descripción del Dataset\n",
    "\n",
    "El dataset utilizado proviene de registros de corredores en maratones, con información sobre la distancia entrenada semanalmente, velocidad promedio, categoría del corredor, entre otros. Consta de 1044 entradas y 10 columnas, con variables numéricas y categóricas.\n",
    "Análisis Exploratorio de Datos (EDA)\n",
    "\n",
    "Se realizó un EDA para comprender la distribución de las variables, identificar posibles valores atípicos y explorar correlaciones. Se observaron relaciones importantes entre la distancia entrenada, velocidad promedio y tiempo de maratón."
   ]
  },
  {
   "cell_type": "markdown",
   "metadata": {},
   "source": [
    "III. Preprocesamiento de los Datos"
   ]
  },
  {
   "cell_type": "markdown",
   "metadata": {},
   "source": [
    "Verificación de la Calidad de los Datos\n",
    "\n",
    "Se identificaron valores nulos en las variables \"CrossTraining\" y \"Wall21\", y se realizaron imputaciones y eliminaciones de registros para garantizar la integridad del conjunto de datos.\n",
    "\n",
    "Decisiones, Imputaciones y Transformación de Variables\n",
    "\n",
    "Las variables categóricas como \"CrossTraining\" y \"Category\" se transformaron numéricamente. Se manejaron valores nulos y se normalizaron las escalas de las variables numéricas."
   ]
  },
  {
   "cell_type": "markdown",
   "metadata": {},
   "source": [
    "IV. Modelado"
   ]
  },
  {
   "cell_type": "markdown",
   "metadata": {},
   "source": [
    "Entrenamiento de Modelos\n",
    "\n",
    "Se utilizó un modelo de regresión lineal para predecir el tiempo de maratón. Además, se exploraron modelos alternativos como Ridge y Lasso.\n",
    "\n",
    "Evaluación de Modelos\n",
    "\n",
    "Se realizó una evaluación exhaustiva utilizando métricas como R cuadrado. La búsqueda en cuadrícula se empleó para optimizar hiperparámetros y mejorar el rendimiento.\n",
    "\n",
    "Selección e Interpretación del Modelo Final\n",
    "\n",
    "El modelo de regresión lineal (Ridge) mostró un alto rendimiento en la predicción del tiempo de maratón y fue seleccionado como el modelo final. Se interpretaron los coeficientes para entender la contribución de cada variable."
   ]
  },
  {
   "cell_type": "markdown",
   "metadata": {},
   "source": [
    "V. Predicción y Resultados Finales"
   ]
  },
  {
   "cell_type": "markdown",
   "metadata": {},
   "source": [
    "Descripción de la Solución Final y su Impacto en el Negocio\n",
    "\n",
    "La solución final es un modelo de regresión lineal Ridge capaz de predecir el tiempo de maratón con precisión. Este modelo puede ser utilizado por corredores para planificar su entrenamiento de manera más efectiva.\n",
    "\n",
    "Visualización de Resultados Finales y Predicciones\n",
    "\n",
    "Se presentaron visualizaciones que destacan la relación entre las variables de entrenamiento y el tiempo de maratón. Se mostraron predicciones en conjuntos de entrenamiento y prueba."
   ]
  },
  {
   "cell_type": "markdown",
   "metadata": {},
   "source": [
    "VI. Conclusiones y Futuros Pasos"
   ]
  },
  {
   "cell_type": "markdown",
   "metadata": {},
   "source": [
    "Análisis de Resultados y Fortalezas/Debilidades\n",
    "\n",
    "El proyecto logró desarrollar un modelo preciso para predecir tiempos de maratón. Se identificaron fortalezas en la relación entre variables y debilidades en la disponibilidad de datos para algunas categorías.\n",
    "\n",
    "Propuesta de Futuras Mejoras y Optimizaciones\n",
    "\n",
    "Para mejorar el modelo, se sugiere la incorporación de más datos, especialmente para categorías con menos registros. Además, la exploración de modelos no lineales podría ofrecer mejoras en la precisión de las predicciones.\n",
    "La memoria refleja un enfoque analítico y crítico, con visualizaciones que respaldan los resultados. El proyecto destaca la capacidad para abordar problemas complejos de manera efectiva utilizando técnicas de machine learning."
   ]
  }
 ],
 "metadata": {
  "language_info": {
   "name": "python"
  }
 },
 "nbformat": 4,
 "nbformat_minor": 2
}
